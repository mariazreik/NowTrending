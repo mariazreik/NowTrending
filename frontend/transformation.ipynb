{
 "cells": [
  {
   "cell_type": "code",
   "execution_count": 5,
   "metadata": {},
   "outputs": [],
   "source": [
    "import pandas as pd\n",
    "import sys\n",
    "import os"
   ]
  },
  {
   "cell_type": "code",
   "execution_count": 6,
   "metadata": {},
   "outputs": [],
   "source": [
    "BASE_DIR = os.getcwd()  # Gets current working directory\n",
    "\n",
    "sys.path.append(os.path.abspath(os.path.join(BASE_DIR, \"..\")))\n",
    "\n",
    "from database.database import get_db_connection  # Now import should work"
   ]
  },
  {
   "cell_type": "code",
   "execution_count": null,
   "metadata": {},
   "outputs": [],
   "source": [
    "def transform_google_locations():\n",
    "    '''This function retrieves the google_locations table and returns the cleaned version as a pandas dataframe.'''\n",
    "    conn = get_db_connection()\n",
    "    if conn:\n",
    "        try:\n",
    "            # query to select the whole table\n",
    "            query = \"SELECT * FROM student.google_locations\"\n",
    "            # my dataframe\n",
    "            df = pd.read_sql(query, conn)\n",
    "            df_transformed = df.drop(['success', 'message', 'lastupdate', 'scrapedat'], axis=1)\n",
    "            df_transformed['country'] = df_transformed['country'].str.lower()\n",
    "            # original_length = len(df_transformed)\n",
    "            df_unique = df_transformed.drop_duplicates(subset=['country'])\n",
    "            # new_length = len(df_unique)\n",
    "            # removed_count = original_length - new_length\n",
    "            # print(f\"Number of duplicate rows removed: {removed_count} out of {original_length}\")\n",
    "            # print(df_unique)\n",
    "            return df_unique\n",
    "        except Exception as e:\n",
    "            print(f\"An error occurred: {e}\")\n",
    "        finally:\n",
    "            # always close connection when done\n",
    "            conn.close()\n",
    "    else:\n",
    "        print(\"Failed to establish a database connection.\")"
   ]
  },
  {
   "cell_type": "code",
   "execution_count": 81,
   "metadata": {},
   "outputs": [],
   "source": [
    "def transform_google_trend():\n",
    "    conn = get_db_connection()\n",
    "    if conn:\n",
    "        try:\n",
    "            # my query\n",
    "            query = \"SELECT * FROM student.google_trend\"\n",
    "            # my dataframe\n",
    "            df = pd.read_sql(query, conn)\n",
    "            # drops duplicate rows\n",
    "            df_unique = df.drop_duplicates()\n",
    "            df_unique.rename(columns={'keyword': 'trend'}, inplace=True)\n",
    "            df_unique['trend'] = df_unique['trend'].str.title()\n",
    "            \n",
    "            # print(df_unique.head())\n",
    "            \n",
    "            return(df_unique)\n",
    "        except Exception as e:\n",
    "            print(f\"An error occurred: {e}\")\n",
    "        finally:\n",
    "            # always close connection when done\n",
    "            conn.close()\n",
    "    else:\n",
    "        print(\"Failed to establish a database connection.\")"
   ]
  },
  {
   "cell_type": "code",
   "execution_count": 70,
   "metadata": {},
   "outputs": [],
   "source": [
    "def transform_twitter_hashflags():\n",
    "    # get the database connection\n",
    "    conn = get_db_connection()\n",
    "    if conn:\n",
    "        try:\n",
    "            # my query\n",
    "            query = \"SELECT * FROM student.twitter_hashflags\"\n",
    "            # my dataframe\n",
    "            df = pd.read_sql(query, conn)\n",
    "            df_unique = df.drop_duplicates()\n",
    "            df_unique = df_unique.drop(['is_hashfetti_enabled'], axis=1)\n",
    "            df_unique.rename(columns={'starting_timestamp_ms':'starting_timestamp', 'ending_timestamp_ms': 'ending_timestamp', 'asset_url': 'url'}, inplace=True)\n",
    "            # prints the head\n",
    "            # print(df_unique.head())\n",
    "            return df_unique\n",
    "        except Exception as e:\n",
    "            print(f\"An error occurred: {e}\")\n",
    "        finally:\n",
    "            # always close connection when done\n",
    "            conn.close()\n",
    "    else:\n",
    "        print(\"Failed to establish a database connection.\")\n"
   ]
  },
  {
   "cell_type": "code",
   "execution_count": 83,
   "metadata": {},
   "outputs": [],
   "source": [
    "def transform_twitter_trend():\n",
    "    # get the database connection\n",
    "    conn = get_db_connection()\n",
    "    if conn:\n",
    "        try:\n",
    "            # my query\n",
    "            query = \"SELECT * FROM student.twitter_trend\"\n",
    "            # my dataframe\n",
    "            df = pd.read_sql(query, conn)\n",
    "            df['related_terms'] = df['related_terms'].astype(str)\n",
    "            df_unique = df.drop_duplicates()\n",
    "            df_unique.rename(columns={'trend_name' : 'trend'}, inplace=True)\n",
    "            df_unique = df_unique.drop(['related_terms', 'impression_id'], axis=1)\n",
    "            df_unique['domain_context'] = df['domain_context'].str.replace(r' . Trending$', '', regex=True)\n",
    "            # prints the head\n",
    "            # print(df_unique.head())\n",
    "            return df_unique\n",
    "        except Exception as e:\n",
    "            print(f\"An error occurred: {e}\")\n",
    "        finally:\n",
    "            # always close connection when done\n",
    "            conn.close()\n",
    "    else:\n",
    "        print(\"Failed to establish a database connection.\")"
   ]
  },
  {
   "cell_type": "code",
   "execution_count": 93,
   "metadata": {},
   "outputs": [],
   "source": [
    "def transform_twitter_locations():\n",
    "    conn = get_db_connection()\n",
    "    if conn:\n",
    "        try:\n",
    "            # my query\n",
    "            query = \"SELECT * FROM student.twitter_locations\"\n",
    "            # my dataframe\n",
    "            df_unique = pd.read_sql(query, conn)\n",
    "            df_unique['country_name'] = df['country_name'].str.lower()\n",
    "            # original_length = len(df_unique)\n",
    "            df_unique = df_unique.drop_duplicates(subset=['country_name'])\n",
    "            df_unique.rename(columns={'country_name':'country'}, inplace=True)\n",
    "            # new_length = len(df_unique)\n",
    "            # removed_count = original_length - new_length\n",
    "            # print(f\"Number of duplicate rows removed: {removed_count} out of {original_length}\")\n",
    "            return df_unique\n",
    "            # print(df_unique)\n",
    "        except Exception as e:\n",
    "            print(f\"An error occurred: {e}\")\n",
    "        finally:\n",
    "            # always close connection when done\n",
    "            conn.close()\n",
    "    else:\n",
    "        print(\"Failed to establish a database connection.\")"
   ]
  }
 ],
 "metadata": {
  "kernelspec": {
   "display_name": ".venv",
   "language": "python",
   "name": "python3"
  },
  "language_info": {
   "codemirror_mode": {
    "name": "ipython",
    "version": 3
   },
   "file_extension": ".py",
   "mimetype": "text/x-python",
   "name": "python",
   "nbconvert_exporter": "python",
   "pygments_lexer": "ipython3",
   "version": "3.10.12"
  }
 },
 "nbformat": 4,
 "nbformat_minor": 2
}
