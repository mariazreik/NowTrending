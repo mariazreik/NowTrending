{
 "cells": [
  {
   "cell_type": "markdown",
   "metadata": {},
   "source": [
    "<img src=\"images/logo.jpg\" alt=\"My Logo\" width=\"400\" height=\"250\">\n",
    "\n",
    "> ## Agenda:\n",
    ">       - Overview of the Project Plan\n",
    ">       - Break down of my Approach\n",
    ">       - Demo of the website\n",
    ">       - Reflections and Future Improvements"
   ]
  },
  {
   "cell_type": "markdown",
   "metadata": {},
   "source": [
    "### Project Plan\n",
    "\n",
    "- I will take you through my initial [plan](project_plan.ipynb) for the project and my motivations for it.\n"
   ]
  },
  {
   "cell_type": "markdown",
   "metadata": {},
   "source": [
    "### My Approach\n",
    "- A schema of the folders\n",
    "- Overview of the steps\n",
    "\n",
    "<img src=\"images/breakdown.jpg\" alt=\"My Logo\" width=\"600\" height=\"500\">"
   ]
  },
  {
   "cell_type": "markdown",
   "metadata": {},
   "source": [
    "### Website Demo\n",
    "[NowTrending](https://nowtrending.streamlit.app/)"
   ]
  },
  {
   "cell_type": "markdown",
   "metadata": {},
   "source": [
    "### Reflections and Future Improvements\n",
    "<img src=\"images/final_backlog.png\" alt=\"My Logo\" width=\"800\" height=\"500\">"
   ]
  },
  {
   "cell_type": "markdown",
   "metadata": {},
   "source": [
    "- More data would be useful for the historical trends section\n",
    "- To get the links working on desktop\n",
    "- To get all the tests to work\n",
    "- To speed up website functionality (refresh and navigation)\n",
    "- To add a section that compares trends on Google and Twitter\n",
    "- To add more data for Google (Popularity) and more analysis for both in general"
   ]
  }
 ],
 "metadata": {
  "kernelspec": {
   "display_name": ".venv",
   "language": "python",
   "name": "python3"
  },
  "language_info": {
   "codemirror_mode": {
    "name": "ipython",
    "version": 3
   },
   "file_extension": ".py",
   "mimetype": "text/x-python",
   "name": "python",
   "nbconvert_exporter": "python",
   "pygments_lexer": "ipython3",
   "version": "3.10.12"
  }
 },
 "nbformat": 4,
 "nbformat_minor": 2
}
