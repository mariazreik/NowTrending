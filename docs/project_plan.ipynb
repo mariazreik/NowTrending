{
 "cells": [
  {
   "cell_type": "markdown",
   "metadata": {},
   "source": [
    "# :pencil: Project Plan: NowTrending\n",
    "## Objective\n",
    "> Develop a real-time dashboard that fetches trending hashtags/topics from Twitter & Google and presents them."
   ]
  },
  {
   "cell_type": "markdown",
   "metadata": {},
   "source": [
    "## Purpose\n",
    "- Allows users to quickly see what's popular globally or in specific locations (a quick, insightful snapshot of the digital world)\n",
    "  -  For Social Media Analysts → Track viral topics and engagement trends.\n",
    "  -  For Journalists → Discover breaking news and public discussions.\n",
    "  -  For Businesses & Marketers → Identify trends for brand engagement and content strategy.\n",
    "  -  For Researchers → Analyse social media influence and cultural shifts."
   ]
  },
  {
   "cell_type": "markdown",
   "metadata": {},
   "source": [
    "## :bulb: Visualisation\n",
    "<img src=\"images/project_visualisation.jpg\" alt=\"Trending Dashboard\" width=\"650\" style=\"border: 2px solid black; border-radius: 10px;\">\n"
   ]
  },
  {
   "cell_type": "markdown",
   "metadata": {},
   "source": [
    "\n",
    "## User Stories\n",
    "<img src=\"images/Kanban_board.png\" alt=\"Trending Dashboard\" width=\"650\" style=\"border: 2px solid black; border-radius: 10px;\">\n",
    "\n"
   ]
  },
  {
   "cell_type": "markdown",
   "metadata": {},
   "source": [
    "## 📌 Acceptance Criteria\n",
    "\n",
    "#### Trending Hashtags Display\n",
    "- The dashboard must show trending hashtags from Twitter and Google.\n",
    "- Clicking on a hashtag must open the relevant page on Twitter or Google.\n",
    "#### Filtering by Location\n",
    "- Users must be able to select a country or city.\n",
    "- The dashboard must display trends specific to the chosen location.\n",
    "#### Historical Trends\n",
    "- Users must be able to select a date range.\n",
    "- The system must display past trends from the database.\n",
    "#### Automated Data Updates\n",
    "- A script must run every 10 minutes to fetch new trends.\n",
    "- The system must store new trends in the database.\n",
    "#### Responsive Design\n",
    "- The dashboard must work on desktop and mobile.\n",
    "- It must adjust layout dynamically based on screen size.\n",
    "\n",
    "## :white_check_mark: Definition of Done (DoD)\n",
    "#### A feature is done when:\n",
    "- Code is written, tested, and reviewed.\n",
    "- The feature works as per acceptance criteria.\n",
    "- It is deployed to the live version.\n",
    "\n",
    "\n"
   ]
  }
 ],
 "metadata": {
  "language_info": {
   "name": "python"
  }
 },
 "nbformat": 4,
 "nbformat_minor": 2
}
